{
 "cells": [
  {
   "cell_type": "code",
   "execution_count": 1,
   "metadata": {},
   "outputs": [],
   "source": [
    "def _set_plot(epsilon):\n",
    "    plt.rcParams['font.family'] = 'Times New Roman'\n",
    "    plt.rcParams[\"font.size\"] = 32\n",
    "    plt.yscale('log')\n",
    "    plt.ylim(epsilon, 1)\n",
    "    plt.grid()\n",
    "    plt.xlabel('Number of Solution Updates')\n",
    "    plt.ylabel('Residual Norm')\n",
    "    plt.legend()\n",
    "    plt.subplots_adjust(left=0.15, right=0.90, bottom=0.15, top=0.90)"
   ]
  },
  {
   "cell_type": "code",
   "execution_count": null,
   "metadata": {},
   "outputs": [],
   "source": [
    "def plot(figsize=(4,3), data, lw=1, label=None, makersize=3):\n",
    "    plt.figure(figsize=figsize)\n",
    "    plt.plot(data['num_of_solution_updates'], data['residual'], '-o', lw=lw, label=label, markersize=makersize)\n",
    "    _set_plot(data['epsilon'])\n",
    "    plt.show()"
   ]
  },
  {
   "cell_type": "code",
   "execution_count": null,
   "metadata": {},
   "outputs": [],
   "source": [
    "def multiplot(figsize=(4,3), dataArray, lw=1, label=None, makersize=3):        \n",
    "    plt.figure(figsize=figsize)\n",
    "        \n",
    "    upper_limit = 0\n",
    "    for d in dataArray:\n",
    "        upper_limit = max(upper_limit, d.solution_updates[d.iter - 1])\n",
    "    for d in dataArray:\n",
    "        plt.plot(solution_updates, residual, '-o', lw=lw, label=label, markersize=makersize)\n",
    "            \n",
    "    plt.xlim(0,upper_limit+1)\n",
    "    _set_plot(dataA)\n",
    "    plt.show()"
   ]
  }
 ],
 "metadata": {
  "kernelspec": {
   "display_name": "Python 3",
   "language": "python",
   "name": "python3"
  },
  "language_info": {
   "codemirror_mode": {
    "name": "ipython",
    "version": 3
   },
   "file_extension": ".py",
   "mimetype": "text/x-python",
   "name": "python",
   "nbconvert_exporter": "python",
   "pygments_lexer": "ipython3",
   "version": "3.6.5"
  }
 },
 "nbformat": 4,
 "nbformat_minor": 4
}
