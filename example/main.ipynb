{
 "cells": [
  {
   "cell_type": "code",
   "execution_count": 1,
   "metadata": {},
   "outputs": [],
   "source": [
    "import sys\n",
    "sys.path.append('../../')\n",
    "import krylov.utils.loader as loader\n",
    "import krylov.preconditioning\n",
    "from krylov.methods import Methods"
   ]
  },
  {
   "cell_type": "code",
   "execution_count": 2,
   "metadata": {},
   "outputs": [],
   "source": [
    "length = int(sys.argv[1])\n",
    "length = 1081\n",
    "version = 'EFG'\n",
    "directory = 'data'"
   ]
  },
  {
   "cell_type": "code",
   "execution_count": 3,
   "metadata": {},
   "outputs": [],
   "source": [
    "A = loader.matrixLoader(directory,version,length)\n",
    "b = loader.vectorLoader(directory,version,length)"
   ]
  },
  {
   "cell_type": "code",
   "execution_count": 15,
   "metadata": {},
   "outputs": [
    {
     "name": "stdout",
     "output_type": "stream",
     "text": [
      "--------------------\n",
      "name:k-skip MrR\n",
      "Status: converged\n",
      "iter: 778 times\n",
      "initial_k: 1\n",
      "final_k: None\n",
      "residual: 9.600606770622823e-11\n",
      "time: 0.8474729061126709\n",
      "--------------------\n",
      "--------------------\n",
      "name:adaptive k-skip MrR\n",
      "Status: converged\n",
      "iter: 778 times\n",
      "initial_k: 1\n",
      "final_k: 1\n",
      "residual: 9.600606770622823e-11\n",
      "time: 0.8014557361602783\n",
      "--------------------\n"
     ]
    }
   ],
   "source": [
    "for k in range(1,2):\n",
    "    kskipmrr = Methods(A,b)\n",
    "    kskipmrr.kskipmrr(k=k)\n",
    "    \n",
    "    kskipmrr.output('./results/' + str(length) + '/' + version + '/' + 'kskipmrr_' + str(k) + '.json')\n",
    "    \n",
    "    adaptivekskipmrr = Methods(A,b)\n",
    "    adaptivekskipmrr.adaptivekskipmrr(k=k)\n",
    "    \n",
    "    adaptivekskipmrr.output('results/' + str(length) + '/' + version + '/' + ' adaptivekskipmrr_' + str(k) + '.json')"
   ]
  },
  {
   "cell_type": "code",
   "execution_count": null,
   "metadata": {},
   "outputs": [],
   "source": []
  }
 ],
 "metadata": {
  "kernelspec": {
   "display_name": "Python 3",
   "language": "python",
   "name": "python3"
  },
  "language_info": {
   "codemirror_mode": {
    "name": "ipython",
    "version": 3
   },
   "file_extension": ".py",
   "mimetype": "text/x-python",
   "name": "python",
   "nbconvert_exporter": "python",
   "pygments_lexer": "ipython3",
   "version": "3.6.5"
  }
 },
 "nbformat": 4,
 "nbformat_minor": 4
}
